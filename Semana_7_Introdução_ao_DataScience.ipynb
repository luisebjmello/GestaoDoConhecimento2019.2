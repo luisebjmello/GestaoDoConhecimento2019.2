{
  "nbformat": 4,
  "nbformat_minor": 0,
  "metadata": {
    "colab": {
      "name": "Semana 7 - Introdução ao DataScience ",
      "provenance": [],
      "collapsed_sections": [],
      "toc_visible": true,
      "include_colab_link": true
    },
    "kernelspec": {
      "display_name": "Python 3",
      "name": "python3"
    }
  },
  "cells": [
    {
      "cell_type": "markdown",
      "metadata": {
        "id": "view-in-github",
        "colab_type": "text"
      },
      "source": [
        "<a href=\"https://colab.research.google.com/github/luisebjmello/GestaoDoConhecimento2019.2/blob/master/Semana_7_Introdu%C3%A7%C3%A3o_ao_DataScience.ipynb\" target=\"_parent\"><img src=\"https://colab.research.google.com/assets/colab-badge.svg\" alt=\"Open In Colab\"/></a>"
      ]
    },
    {
      "cell_type": "markdown",
      "metadata": {
        "colab_type": "text",
        "id": "5fCEDCU_qrC0"
      },
      "source": [
        "<p><img alt=\"Colaboratory logo\" height=\"45px\" src=\"/img/colab_favicon.ico\" align=\"left\" hspace=\"10px\" vspace=\"0px\"></p>\n",
        "\n",
        "<h1>Welcome to Colaboratory!</h1>\n",
        "\n",
        "\n",
        "Colaboratory is a free Jupyter notebook environment that requires no setup and runs entirely in the cloud.\n",
        "\n",
        "With Colaboratory you can write and execute code, save and share your analyses, and access powerful computing resources, all for free from your browser."
      ]
    },
    {
      "cell_type": "code",
      "metadata": {
        "colab_type": "code",
        "id": "xitplqMNk_Hc",
        "outputId": "ed4f60d2-878d-4056-c438-352dac39a112",
        "colab": {
          "height": 420
        }
      },
      "source": [
        "#@title Introducing Colaboratory { display-mode: \"form\" }\n",
        "#@markdown This 3-minute video gives an overview of the key features of Colaboratory:\n",
        "from IPython.display import YouTubeVideo\n",
        "YouTubeVideo('inN8seMm7UI', width=600, height=400)"
      ],
      "execution_count": 0,
      "outputs": [
        {
          "output_type": "execute_result",
          "data": {
            "text/html": [
              "\n",
              "        <iframe\n",
              "            width=\"600\"\n",
              "            height=\"400\"\n",
              "            src=\"https://www.youtube.com/embed/inN8seMm7UI\"\n",
              "            frameborder=\"0\"\n",
              "            allowfullscreen\n",
              "        ></iframe>\n",
              "        "
            ],
            "text/plain": [
              "<IPython.lib.display.YouTubeVideo at 0x7f956e9dda50>"
            ]
          },
          "metadata": {
            "tags": []
          },
          "execution_count": 0
        }
      ]
    },
    {
      "cell_type": "markdown",
      "metadata": {
        "colab_type": "text",
        "id": "GJBs_flRovLc"
      },
      "source": [
        "## Getting Started\n",
        "\n",
        "The document you are reading is a  [Jupyter notebook](https://jupyter.org/), hosted in Colaboratory. It is not a static page, but an interactive environment that lets you write and execute code in Python and other languages.\n",
        "\n",
        "For example, here is a **code cell** with a short Python script that computes a value, stores it in a variable, and prints the result:"
      ]
    },
    {
      "cell_type": "code",
      "metadata": {
        "colab_type": "code",
        "id": "gJr_9dXGpJ05",
        "outputId": "5626194c-e802-4293-942d-2908885c3c1f",
        "colab": {
          "height": 35
        }
      },
      "source": [
        "seconds_in_a_day = 24 * 60 * 60\n",
        "seconds_in_a_day"
      ],
      "execution_count": 0,
      "outputs": [
        {
          "output_type": "execute_result",
          "data": {
            "text/plain": [
              "86400"
            ]
          },
          "metadata": {
            "tags": []
          },
          "execution_count": 0
        }
      ]
    },
    {
      "cell_type": "markdown",
      "metadata": {
        "colab_type": "text",
        "id": "2fhs6GZ4qFMx"
      },
      "source": [
        "To execute the code in the above cell, select it with a click and then either press the play button to the left of the code, or use the keyboard shortcut \"Command/Ctrl+Enter\".\n",
        "\n",
        "All cells modify the same global state, so variables that you define by executing a cell can be used in other cells:"
      ]
    },
    {
      "cell_type": "code",
      "metadata": {
        "colab_type": "code",
        "id": "-gE-Ez1qtyIA",
        "outputId": "8d2e4259-4682-4e19-b683-7b9087f28820",
        "colab": {
          "height": 35
        }
      },
      "source": [
        "seconds_in_a_week = 7 * seconds_in_a_day\n",
        "seconds_in_a_week"
      ],
      "execution_count": 0,
      "outputs": [
        {
          "output_type": "execute_result",
          "data": {
            "text/plain": [
              "604800"
            ]
          },
          "metadata": {
            "tags": []
          },
          "execution_count": 0
        }
      ]
    },
    {
      "cell_type": "markdown",
      "metadata": {
        "colab_type": "text",
        "id": "lSrWNr3MuFUS"
      },
      "source": [
        "For more information about working with Colaboratory notebooks, see [Overview of Colaboratory](/notebooks/basic_features_overview.ipynb).\n"
      ]
    },
    {
      "cell_type": "markdown",
      "metadata": {
        "colab_type": "text",
        "id": "-Rh3-Vt9Nev9"
      },
      "source": [
        "## More Resources\n",
        "\n",
        "Learn how to make the most of Python, Jupyter, Colaboratory, and related tools with these resources:\n",
        "\n",
        "### Working with Notebooks in Colaboratory\n",
        "- [Overview of Colaboratory](/notebooks/basic_features_overview.ipynb)\n",
        "- [Guide to Markdown](/notebooks/markdown_guide.ipynb)\n",
        "- [Importing libraries and installing dependencies](/notebooks/snippets/importing_libraries.ipynb)\n",
        "- [Saving and loading notebooks in GitHub](https://colab.research.google.com/github/googlecolab/colabtools/blob/master/notebooks/colab-github-demo.ipynb)\n",
        "- [Interactive forms](/notebooks/forms.ipynb)\n",
        "- [Interactive widgets](/notebooks/widgets.ipynb)\n",
        "- <img src=\"/img/new.png\" height=\"20px\" align=\"left\" hspace=\"4px\" alt=\"New\"></img>\n",
        " [TensorFlow 2 in Colab](/notebooks/tensorflow_version.ipynb)\n",
        "\n",
        "### Working with Data\n",
        "- [Loading data: Drive, Sheets, and Google Cloud Storage](/notebooks/io.ipynb) \n",
        "- [Charts: visualizing data](/notebooks/charts.ipynb)\n",
        "- [Getting started with BigQuery](/notebooks/bigquery.ipynb)\n",
        "\n",
        "### Machine Learning Crash Course\n",
        "These are a few of the notebooks from Google's online Machine Learning course. See the [full course website](https://developers.google.com/machine-learning/crash-course/) for more.\n",
        "- [Intro to Pandas](/notebooks/mlcc/intro_to_pandas.ipynb)\n",
        "- [Tensorflow concepts](/notebooks/mlcc/tensorflow_programming_concepts.ipynb)\n",
        "- [First steps with TensorFlow](/notebooks/mlcc/first_steps_with_tensor_flow.ipynb)\n",
        "- [Intro to neural nets](/notebooks/mlcc/intro_to_neural_nets.ipynb)\n",
        "- [Intro to sparse data and embeddings](/notebooks/mlcc/intro_to_sparse_data_and_embeddings.ipynb)\n",
        "\n",
        "### Using Accelerated Hardware\n",
        "- [TensorFlow with GPUs](/notebooks/gpu.ipynb)\n",
        "- [TensorFlow with TPUs](/notebooks/tpu.ipynb)"
      ]
    },
    {
      "cell_type": "markdown",
      "metadata": {
        "colab_type": "text",
        "id": "P-H6Lw1vyNNd"
      },
      "source": [
        "## Machine Learning Examples: Seedbank\n",
        "\n",
        "To see end-to-end examples of the interactive machine learning analyses that Colaboratory makes possible, check out the [Seedbank](https://research.google.com/seedbank/) project.\n",
        "\n",
        "A few featured examples:\n",
        "\n",
        "- [Neural Style Transfer](https://research.google.com/seedbank/seed/neural_style_transfer_with_tfkeras): Use deep learning to transfer style between images.\n",
        "- [EZ NSynth](https://research.google.com/seedbank/seed/ez_nsynth): Synthesize audio with WaveNet auto-encoders.\n",
        "- [Fashion MNIST with Keras and TPUs](https://research.google.com/seedbank/seed/fashion_mnist_with_keras_and_tpus): Classify fashion-related images with deep learning.\n",
        "- [DeepDream](https://research.google.com/seedbank/seed/deepdream): Produce DeepDream images from your own photos.\n",
        "- [Convolutional VAE](https://research.google.com/seedbank/seed/convolutional_vae): Create a generative model of handwritten digits."
      ]
    },
    {
      "cell_type": "code",
      "metadata": {
        "id": "KGPPWwed9AAr",
        "colab_type": "code",
        "outputId": "32f3b620-a1d8-4c25-def3-140947825ff5",
        "colab": {
          "base_uri": "https://localhost:8080/",
          "height": 770
        }
      },
      "source": [
        "import pandas as pd\n",
        "import numpy as np\n",
        "#Create a series\n",
        "pd.Series(np.random.randn(5), index=['a','b', 'c', 'd', 'e'])\n",
        "#Preserve the series in variable s for later access\n",
        "s = pd.Series(np.random.randn(5), index=['a','b', 'c', 'd', 'e'])\n",
        "print(s)\n",
        "#Index\n",
        "print(s[0])\n",
        "print(\"/n\")\n",
        "print(s[:3])\n",
        "print(s['a'])\n",
        "#Create a dataframe\n",
        "df = pd.DataFrame(s, columns = ['Coluna 1'])\n",
        "df\n",
        "#Can access columns by name\n",
        "df['Coluna 1']\n",
        "#Easy to add columns\n",
        "df['Coluna 2'] = df['Coluna 1'] * 4\n",
        "df\n",
        "#Other manipulation\n",
        "df.sort_values(by = 'Coluna 2')\n",
        "df[df['Coluna 2'] <= 2]\n",
        "df.apply(lambda x: min(x) + max(x))\n",
        "import matplotlib.pyplot as plt\n",
        "% matplotlib inline\n",
        "plt.style.use('ggplot')\n",
        "df = pd.read_csv('https://raw.githubusercontent.com/salgado/lasalle.sad.repo.datas/master/GlobalTemperatures.csv')\n",
        "df.head(10)\n",
        "df.head(10).sort_values(by = 'dt')\n",
        "df.tail(10)\n"
      ],
      "execution_count": 0,
      "outputs": [
        {
          "output_type": "stream",
          "text": [
            "a    1.412399\n",
            "b   -1.232865\n",
            "c    0.101827\n",
            "d   -0.919156\n",
            "e   -2.045624\n",
            "dtype: float64\n",
            "1.4123992304228865\n",
            "/n\n",
            "a    1.412399\n",
            "b   -1.232865\n",
            "c    0.101827\n",
            "dtype: float64\n",
            "1.4123992304228865\n"
          ],
          "name": "stdout"
        },
        {
          "output_type": "execute_result",
          "data": {
            "text/html": [
              "<div>\n",
              "<style scoped>\n",
              "    .dataframe tbody tr th:only-of-type {\n",
              "        vertical-align: middle;\n",
              "    }\n",
              "\n",
              "    .dataframe tbody tr th {\n",
              "        vertical-align: top;\n",
              "    }\n",
              "\n",
              "    .dataframe thead th {\n",
              "        text-align: right;\n",
              "    }\n",
              "</style>\n",
              "<table border=\"1\" class=\"dataframe\">\n",
              "  <thead>\n",
              "    <tr style=\"text-align: right;\">\n",
              "      <th></th>\n",
              "      <th>dt</th>\n",
              "      <th>LandAverageTemperature</th>\n",
              "      <th>LandAverageTemperatureUncertainty</th>\n",
              "      <th>LandMaxTemperature</th>\n",
              "      <th>LandMaxTemperatureUncertainty</th>\n",
              "      <th>LandMinTemperature</th>\n",
              "      <th>LandMinTemperatureUncertainty</th>\n",
              "      <th>LandAndOceanAverageTemperature</th>\n",
              "      <th>LandAndOceanAverageTemperatureUncertainty</th>\n",
              "    </tr>\n",
              "  </thead>\n",
              "  <tbody>\n",
              "    <tr>\n",
              "      <th>3182</th>\n",
              "      <td>2015-03-01</td>\n",
              "      <td>6.740</td>\n",
              "      <td>0.060</td>\n",
              "      <td>12.659</td>\n",
              "      <td>0.096</td>\n",
              "      <td>0.894</td>\n",
              "      <td>0.079</td>\n",
              "      <td>15.193</td>\n",
              "      <td>0.061</td>\n",
              "    </tr>\n",
              "    <tr>\n",
              "      <th>3183</th>\n",
              "      <td>2015-04-01</td>\n",
              "      <td>9.313</td>\n",
              "      <td>0.088</td>\n",
              "      <td>15.224</td>\n",
              "      <td>0.137</td>\n",
              "      <td>3.402</td>\n",
              "      <td>0.147</td>\n",
              "      <td>15.962</td>\n",
              "      <td>0.061</td>\n",
              "    </tr>\n",
              "    <tr>\n",
              "      <th>3184</th>\n",
              "      <td>2015-05-01</td>\n",
              "      <td>12.312</td>\n",
              "      <td>0.081</td>\n",
              "      <td>18.181</td>\n",
              "      <td>0.117</td>\n",
              "      <td>6.313</td>\n",
              "      <td>0.153</td>\n",
              "      <td>16.774</td>\n",
              "      <td>0.058</td>\n",
              "    </tr>\n",
              "    <tr>\n",
              "      <th>3185</th>\n",
              "      <td>2015-06-01</td>\n",
              "      <td>14.505</td>\n",
              "      <td>0.068</td>\n",
              "      <td>20.364</td>\n",
              "      <td>0.133</td>\n",
              "      <td>8.627</td>\n",
              "      <td>0.168</td>\n",
              "      <td>17.390</td>\n",
              "      <td>0.057</td>\n",
              "    </tr>\n",
              "    <tr>\n",
              "      <th>3186</th>\n",
              "      <td>2015-07-01</td>\n",
              "      <td>15.051</td>\n",
              "      <td>0.086</td>\n",
              "      <td>20.904</td>\n",
              "      <td>0.109</td>\n",
              "      <td>9.326</td>\n",
              "      <td>0.225</td>\n",
              "      <td>17.611</td>\n",
              "      <td>0.058</td>\n",
              "    </tr>\n",
              "    <tr>\n",
              "      <th>3187</th>\n",
              "      <td>2015-08-01</td>\n",
              "      <td>14.755</td>\n",
              "      <td>0.072</td>\n",
              "      <td>20.699</td>\n",
              "      <td>0.110</td>\n",
              "      <td>9.005</td>\n",
              "      <td>0.170</td>\n",
              "      <td>17.589</td>\n",
              "      <td>0.057</td>\n",
              "    </tr>\n",
              "    <tr>\n",
              "      <th>3188</th>\n",
              "      <td>2015-09-01</td>\n",
              "      <td>12.999</td>\n",
              "      <td>0.079</td>\n",
              "      <td>18.845</td>\n",
              "      <td>0.088</td>\n",
              "      <td>7.199</td>\n",
              "      <td>0.229</td>\n",
              "      <td>17.049</td>\n",
              "      <td>0.058</td>\n",
              "    </tr>\n",
              "    <tr>\n",
              "      <th>3189</th>\n",
              "      <td>2015-10-01</td>\n",
              "      <td>10.801</td>\n",
              "      <td>0.102</td>\n",
              "      <td>16.450</td>\n",
              "      <td>0.059</td>\n",
              "      <td>5.232</td>\n",
              "      <td>0.115</td>\n",
              "      <td>16.290</td>\n",
              "      <td>0.062</td>\n",
              "    </tr>\n",
              "    <tr>\n",
              "      <th>3190</th>\n",
              "      <td>2015-11-01</td>\n",
              "      <td>7.433</td>\n",
              "      <td>0.119</td>\n",
              "      <td>12.892</td>\n",
              "      <td>0.093</td>\n",
              "      <td>2.157</td>\n",
              "      <td>0.106</td>\n",
              "      <td>15.252</td>\n",
              "      <td>0.063</td>\n",
              "    </tr>\n",
              "    <tr>\n",
              "      <th>3191</th>\n",
              "      <td>2015-12-01</td>\n",
              "      <td>5.518</td>\n",
              "      <td>0.100</td>\n",
              "      <td>10.725</td>\n",
              "      <td>0.154</td>\n",
              "      <td>0.287</td>\n",
              "      <td>0.099</td>\n",
              "      <td>14.774</td>\n",
              "      <td>0.062</td>\n",
              "    </tr>\n",
              "  </tbody>\n",
              "</table>\n",
              "</div>"
            ],
            "text/plain": [
              "              dt  ...  LandAndOceanAverageTemperatureUncertainty\n",
              "3182  2015-03-01  ...                                      0.061\n",
              "3183  2015-04-01  ...                                      0.061\n",
              "3184  2015-05-01  ...                                      0.058\n",
              "3185  2015-06-01  ...                                      0.057\n",
              "3186  2015-07-01  ...                                      0.058\n",
              "3187  2015-08-01  ...                                      0.057\n",
              "3188  2015-09-01  ...                                      0.058\n",
              "3189  2015-10-01  ...                                      0.062\n",
              "3190  2015-11-01  ...                                      0.063\n",
              "3191  2015-12-01  ...                                      0.062\n",
              "\n",
              "[10 rows x 9 columns]"
            ]
          },
          "metadata": {
            "tags": []
          },
          "execution_count": 1
        }
      ]
    }
  ]
}